{
 "cells": [
  {
   "cell_type": "markdown",
   "metadata": {},
   "source": [
    "# Monte Carlo simulation\n",
    "\n",
    "Monte Carlo simulation can be used to estimate the outcome of non-deterministic processes where that follow some probability distribution.\n",
    "\n",
    "There are two components that we need to run a Monte Carlo simulation:\n",
    "\n",
    "- The equation to evaluate\n",
    "- The random variables for the input\n",
    "\n",
    "In this example we are considering leasing a machine for a manufacturing process. The one-year lease costs is $300,000. There are some estimations on the 90% confidence interval of the impact.\n",
    "\n",
    "- savings between 5 and -2 dollars to produce each unit.\n",
    "- savings between 20 and 15 dollars to transport each unit.\n",
    "- production increase between 30000 and 20000.\n",
    "\n",
    "We want to know if it's worth investing in buying the machine.\n",
    "\n",
    "\n"
   ]
  },
  {
   "cell_type": "code",
   "execution_count": 6,
   "metadata": {},
   "outputs": [],
   "source": [
    "%matplotlib inline\n",
    "import scipy\n",
    "from scipy.stats import norm\n",
    "import pandas as pd\n",
    "from matplotlib import pyplot as plt\n",
    "\n",
    "machinery_cost = 300000\n",
    "\n",
    "number_of_simulations = 1000000\n",
    "confidence = 0.90\n",
    "n =1000\n",
    "\n",
    "conf_interval = (scipy.stats.t.ppf((1 + confidence) / 2., n-1))*2\n",
    "\n",
    "\n",
    "# Defining the variables\n",
    "\n",
    "# We find the distributions of the potential savings that we will have\n",
    "transport_saving = norm(loc = (20 + 15) / 2, scale = (20 - 15) / conf_interval)\n",
    "# Savings in labour are estimated between 5 and -1\n",
    "labor_saving = norm(loc = (5 - (-2)) / 2, scale = (5 - (-2)) / conf_interval)\n",
    "transport_results = transport_saving.rvs(number_of_simulations)\n",
    "labor_results = labor_saving.rvs(number_of_simulations)\n",
    "prod_level = norm(loc = (30000 + 20000) / 2, scale = (30000 - 10000) / conf_interval)\n",
    "\n",
    "prod_level_results = prod_level.rvs(number_of_simulations)\n",
    "data = pd.DataFrame({\n",
    "    \"transport_saving_per_unit\": transport_results,\n",
    "    \"labor_savings_per_unit\": labor_results,\n",
    "    \"production_level\": prod_level_results\n",
    "})\n",
    "data[\"total_savings\"] = 0"
   ]
  },
  {
   "cell_type": "code",
   "execution_count": 2,
   "metadata": {},
   "outputs": [
    {
     "data": {
      "image/png": "[encoded data removed]",
      "text/plain": [
       "<Figure size 432x288 with 1 Axes>"
      ]
     },
     "metadata": {
      "needs_background": "light"
     },
     "output_type": "display_data"
    },
    {
     "data": {
      "text/plain": [
       "'The probability of losing money is: 5.0261%'"
      ]
     },
     "execution_count": 2,
     "metadata": {},
     "output_type": "execute_result"
    }
   ],
   "source": [
    "plt.hist(data.total_savings, bins = 100)\n",
    "plt.axvline(x = machinery_cost, c = \"g\")\n",
    "plt.show()\n",
    "\n",
    "probability_losing_money = data[data[\"total_savings\"] < machinery_cost].count()[\"total_savings\"] / 1000000\n",
    "f\"The probability of losing money is: {probability_losing_money*100}%\""
   ]
  }
 ],
 "metadata": {
  "kernelspec": {
   "display_name": "Python 3",
   "language": "python",
   "name": "python3"
  },
  "language_info": {
   "codemirror_mode": {
    "name": "ipython",
    "version": 3
   },
   "file_extension": ".py",
   "mimetype": "text/x-python",
   "name": "python",
   "nbconvert_exporter": "python",
   "pygments_lexer": "ipython3",
   "version": "3.7.5"
  }
 },
 "nbformat": 4,
 "nbformat_minor": 2
}
